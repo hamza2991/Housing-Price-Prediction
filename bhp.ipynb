{
 "cells": [
  {
   "cell_type": "code",
   "execution_count": 2,
   "id": "a54f0d9f-93d1-4f7d-a5a0-cb25b3f9509f",
   "metadata": {},
   "outputs": [],
   "source": [
    "import pandas as pd\n",
    "import numpy as np\n",
    "import matplotlib.pyplot as plt\n",
    "import seaborn as sns"
   ]
  },
  {
   "cell_type": "code",
   "execution_count": 262,
   "id": "0ca49399-8d76-4e26-bfbc-82fb956dc0d2",
   "metadata": {},
   "outputs": [],
   "source": [
    "df= pd.read_csv(r'C:\\Users\\Malik\\Desktop\\Bengaluru_House_Data.csv')"
   ]
  },
  {
   "cell_type": "code",
   "execution_count": 263,
   "id": "be6c71c9-907d-47f0-be8a-30bf59df6b30",
   "metadata": {},
   "outputs": [],
   "source": [
    "df= df.drop(['area_type', 'society', 'balcony', 'availability'], axis= 'columns')"
   ]
  },
  {
   "cell_type": "code",
   "execution_count": 264,
   "id": "cce75962-29c7-4e9b-9584-1f556e57223c",
   "metadata": {},
   "outputs": [
    {
     "data": {
      "text/plain": [
       "location       1\n",
       "size          16\n",
       "total_sqft     0\n",
       "bath          73\n",
       "price          0\n",
       "dtype: int64"
      ]
     },
     "execution_count": 264,
     "metadata": {},
     "output_type": "execute_result"
    }
   ],
   "source": [
    "df.isnull().sum()"
   ]
  },
  {
   "cell_type": "code",
   "execution_count": 265,
   "id": "34771637-321c-41a4-b550-42a8b9925ff6",
   "metadata": {},
   "outputs": [],
   "source": [
    "df=df.dropna()"
   ]
  },
  {
   "cell_type": "code",
   "execution_count": 266,
   "id": "ecd6d17f-c320-40d7-b200-3fb361c75eea",
   "metadata": {},
   "outputs": [
    {
     "data": {
      "text/plain": [
       "1304"
      ]
     },
     "execution_count": 266,
     "metadata": {},
     "output_type": "execute_result"
    }
   ],
   "source": [
    "len(df['location'].unique())   # unique locations"
   ]
  },
  {
   "cell_type": "code",
   "execution_count": 267,
   "id": "f86c29d5-9fb7-473b-8402-10815a73f4f9",
   "metadata": {},
   "outputs": [
    {
     "data": {
      "text/plain": [
       "array(['2 BHK', '4 Bedroom', '3 BHK', '4 BHK', '6 Bedroom', '3 Bedroom',\n",
       "       '1 BHK', '1 RK', '1 Bedroom', '8 Bedroom', '2 Bedroom',\n",
       "       '7 Bedroom', '5 BHK', '7 BHK', '6 BHK', '5 Bedroom', '11 BHK',\n",
       "       '9 BHK', '9 Bedroom', '27 BHK', '10 Bedroom', '11 Bedroom',\n",
       "       '10 BHK', '19 BHK', '16 BHK', '43 Bedroom', '14 BHK', '8 BHK',\n",
       "       '12 Bedroom', '13 BHK', '18 Bedroom'], dtype=object)"
      ]
     },
     "execution_count": 267,
     "metadata": {},
     "output_type": "execute_result"
    }
   ],
   "source": [
    "df['size'].unique()"
   ]
  },
  {
   "cell_type": "code",
   "execution_count": 268,
   "id": "7c79b2b6-87bd-43e6-834f-12560cf7d710",
   "metadata": {},
   "outputs": [
    {
     "data": {
      "text/plain": [
       "31"
      ]
     },
     "execution_count": 268,
     "metadata": {},
     "output_type": "execute_result"
    }
   ],
   "source": [
    "len(df['size'].unique())"
   ]
  },
  {
   "cell_type": "code",
   "execution_count": 269,
   "id": "63ca48a1-b89f-4f1d-a803-ce5962a8c3f4",
   "metadata": {},
   "outputs": [
    {
     "data": {
      "text/plain": [
       "array(['1056', '2600', '1440', ..., '1133 - 1384', '774', '4689'],\n",
       "      dtype=object)"
      ]
     },
     "execution_count": 269,
     "metadata": {},
     "output_type": "execute_result"
    }
   ],
   "source": [
    "df['total_sqft'].unique()"
   ]
  },
  {
   "cell_type": "code",
   "execution_count": 270,
   "id": "90a88b95-14a1-492e-ac05-ad55e0bd9b71",
   "metadata": {},
   "outputs": [
    {
     "data": {
      "text/plain": [
       "2067"
      ]
     },
     "execution_count": 270,
     "metadata": {},
     "output_type": "execute_result"
    }
   ],
   "source": [
    "len(df['total_sqft'].unique())"
   ]
  },
  {
   "cell_type": "code",
   "execution_count": 271,
   "id": "82f2081f-c622-474d-b622-bcd70784cd89",
   "metadata": {},
   "outputs": [
    {
     "data": {
      "text/plain": [
       "array([ 2.,  5.,  3.,  4.,  6.,  1.,  9.,  8.,  7., 11., 10., 14., 27.,\n",
       "       12., 16., 40., 15., 13., 18.])"
      ]
     },
     "execution_count": 271,
     "metadata": {},
     "output_type": "execute_result"
    }
   ],
   "source": [
    "df['bath'].unique()"
   ]
  },
  {
   "cell_type": "code",
   "execution_count": 272,
   "id": "946269d1-3eed-4482-ae11-d908b88c420c",
   "metadata": {},
   "outputs": [
    {
     "data": {
      "text/plain": [
       "19"
      ]
     },
     "execution_count": 272,
     "metadata": {},
     "output_type": "execute_result"
    }
   ],
   "source": [
    "len(df['bath'].unique())"
   ]
  },
  {
   "cell_type": "code",
   "execution_count": 273,
   "id": "dd58f44c-76aa-48f0-80c7-6b61c5cb6c55",
   "metadata": {},
   "outputs": [],
   "source": [
    "df['BHK'] = df['size'].apply(lambda x : int(x.split(' ')[0]))"
   ]
  },
  {
   "cell_type": "code",
   "execution_count": 274,
   "id": "3707139e-372b-404e-8357-e2f81d17b5ac",
   "metadata": {},
   "outputs": [],
   "source": [
    "df = df.drop('size', axis='columns')"
   ]
  },
  {
   "cell_type": "code",
   "execution_count": 275,
   "id": "4960a07e-9420-4d1d-82e7-a67e82c42122",
   "metadata": {},
   "outputs": [
    {
     "data": {
      "text/html": [
       "<div>\n",
       "<style scoped>\n",
       "    .dataframe tbody tr th:only-of-type {\n",
       "        vertical-align: middle;\n",
       "    }\n",
       "\n",
       "    .dataframe tbody tr th {\n",
       "        vertical-align: top;\n",
       "    }\n",
       "\n",
       "    .dataframe thead th {\n",
       "        text-align: right;\n",
       "    }\n",
       "</style>\n",
       "<table border=\"1\" class=\"dataframe\">\n",
       "  <thead>\n",
       "    <tr style=\"text-align: right;\">\n",
       "      <th></th>\n",
       "      <th>location</th>\n",
       "      <th>total_sqft</th>\n",
       "      <th>bath</th>\n",
       "      <th>price</th>\n",
       "      <th>BHK</th>\n",
       "    </tr>\n",
       "  </thead>\n",
       "  <tbody>\n",
       "    <tr>\n",
       "      <th>0</th>\n",
       "      <td>Electronic City Phase II</td>\n",
       "      <td>1056</td>\n",
       "      <td>2.0</td>\n",
       "      <td>39.07</td>\n",
       "      <td>2</td>\n",
       "    </tr>\n",
       "    <tr>\n",
       "      <th>1</th>\n",
       "      <td>Chikka Tirupathi</td>\n",
       "      <td>2600</td>\n",
       "      <td>5.0</td>\n",
       "      <td>120.00</td>\n",
       "      <td>4</td>\n",
       "    </tr>\n",
       "    <tr>\n",
       "      <th>2</th>\n",
       "      <td>Uttarahalli</td>\n",
       "      <td>1440</td>\n",
       "      <td>2.0</td>\n",
       "      <td>62.00</td>\n",
       "      <td>3</td>\n",
       "    </tr>\n",
       "  </tbody>\n",
       "</table>\n",
       "</div>"
      ],
      "text/plain": [
       "                   location total_sqft  bath   price  BHK\n",
       "0  Electronic City Phase II       1056   2.0   39.07    2\n",
       "1          Chikka Tirupathi       2600   5.0  120.00    4\n",
       "2               Uttarahalli       1440   2.0   62.00    3"
      ]
     },
     "execution_count": 275,
     "metadata": {},
     "output_type": "execute_result"
    }
   ],
   "source": [
    "df.head(3)"
   ]
  },
  {
   "cell_type": "code",
   "execution_count": 276,
   "id": "fd632da4-cfc8-41ac-9f62-ac0e173e73ce",
   "metadata": {},
   "outputs": [
    {
     "data": {
      "text/plain": [
       "4     11095\n",
       "3      1840\n",
       "11       88\n",
       "7        59\n",
       "9        48\n",
       "5        31\n",
       "6        29\n",
       "10       13\n",
       "12       11\n",
       "13        7\n",
       "15        7\n",
       "14        6\n",
       "2         5\n",
       "8         3\n",
       "17        2\n",
       "1         2\n",
       "Name: total_sqft, dtype: int64"
      ]
     },
     "execution_count": 276,
     "metadata": {},
     "output_type": "execute_result"
    }
   ],
   "source": [
    "df['total_sqft'].str.len().value_counts()"
   ]
  },
  {
   "cell_type": "code",
   "execution_count": 277,
   "id": "e04b6354-831f-458a-b128-2de84144c186",
   "metadata": {},
   "outputs": [
    {
     "data": {
      "text/html": [
       "<div>\n",
       "<style scoped>\n",
       "    .dataframe tbody tr th:only-of-type {\n",
       "        vertical-align: middle;\n",
       "    }\n",
       "\n",
       "    .dataframe tbody tr th {\n",
       "        vertical-align: top;\n",
       "    }\n",
       "\n",
       "    .dataframe thead th {\n",
       "        text-align: right;\n",
       "    }\n",
       "</style>\n",
       "<table border=\"1\" class=\"dataframe\">\n",
       "  <thead>\n",
       "    <tr style=\"text-align: right;\">\n",
       "      <th></th>\n",
       "      <th>location</th>\n",
       "      <th>total_sqft</th>\n",
       "      <th>bath</th>\n",
       "      <th>price</th>\n",
       "      <th>BHK</th>\n",
       "    </tr>\n",
       "  </thead>\n",
       "  <tbody>\n",
       "    <tr>\n",
       "      <th>2228</th>\n",
       "      <td>KR Puram</td>\n",
       "      <td>1005.03 - 1252.49</td>\n",
       "      <td>3.0</td>\n",
       "      <td>47.405</td>\n",
       "      <td>3</td>\n",
       "    </tr>\n",
       "    <tr>\n",
       "      <th>3174</th>\n",
       "      <td>Jakkur</td>\n",
       "      <td>2249.81 - 4112.19</td>\n",
       "      <td>4.0</td>\n",
       "      <td>260.500</td>\n",
       "      <td>4</td>\n",
       "    </tr>\n",
       "  </tbody>\n",
       "</table>\n",
       "</div>"
      ],
      "text/plain": [
       "      location         total_sqft  bath    price  BHK\n",
       "2228  KR Puram  1005.03 - 1252.49   3.0   47.405    3\n",
       "3174    Jakkur  2249.81 - 4112.19   4.0  260.500    4"
      ]
     },
     "execution_count": 277,
     "metadata": {},
     "output_type": "execute_result"
    }
   ],
   "source": [
    "df.loc[df['total_sqft'].str.len()==17]"
   ]
  },
  {
   "cell_type": "code",
   "execution_count": 278,
   "id": "e9da5d6e-a231-4c64-8f92-acbf8db964c7",
   "metadata": {},
   "outputs": [],
   "source": [
    "df['area1']= df['total_sqft'].apply(lambda x: ( float(x.split('-')[0]) + float(x.split('-')[1]) )/2 if len(x.split('-')) ==2 else x)"
   ]
  },
  {
   "cell_type": "code",
   "execution_count": 279,
   "id": "5a2c4f70-e17f-4f5a-b5b1-28ea52fb9ee4",
   "metadata": {},
   "outputs": [
    {
     "data": {
      "text/plain": [
       "4.0     11095\n",
       "3.0      1840\n",
       "7.0        59\n",
       "5.0        31\n",
       "6.0        29\n",
       "12.0       11\n",
       "13.0        7\n",
       "14.0        6\n",
       "9.0         6\n",
       "15.0        6\n",
       "2.0         5\n",
       "8.0         3\n",
       "1.0         2\n",
       "11.0        2\n",
       "Name: area1, dtype: int64"
      ]
     },
     "execution_count": 279,
     "metadata": {},
     "output_type": "execute_result"
    }
   ],
   "source": [
    "df['area1'].str.len().value_counts()"
   ]
  },
  {
   "cell_type": "code",
   "execution_count": 280,
   "id": "1b8b2857-e5c1-44cc-a351-2852b8f04785",
   "metadata": {},
   "outputs": [
    {
     "data": {
      "text/plain": [
       "133"
      ]
     },
     "execution_count": 280,
     "metadata": {},
     "output_type": "execute_result"
    }
   ],
   "source": [
    "# verify string presence in column\n",
    "df['area1'].str.contains('\\D', regex=True).sum()"
   ]
  },
  {
   "cell_type": "code",
   "execution_count": 281,
   "id": "a3ef5d0f-7987-4dff-ab43-981089f483c4",
   "metadata": {},
   "outputs": [
    {
     "data": {
      "text/plain": [
       "location       object\n",
       "total_sqft     object\n",
       "bath          float64\n",
       "price         float64\n",
       "BHK             int64\n",
       "area1          object\n",
       "dtype: object"
      ]
     },
     "execution_count": 281,
     "metadata": {},
     "output_type": "execute_result"
    }
   ],
   "source": [
    "# check dataypes of column\n",
    "df.dtypes"
   ]
  },
  {
   "cell_type": "code",
   "execution_count": 282,
   "id": "dfaacea3-d11d-4346-b398-a869f3abc2e5",
   "metadata": {},
   "outputs": [],
   "source": [
    "#extract numbers from string\n",
    "df['area2']= df['area1'].str.extract('(\\d+)')"
   ]
  },
  {
   "cell_type": "code",
   "execution_count": 283,
   "id": "a971061b-ace4-437f-bbf6-ef42051da811",
   "metadata": {},
   "outputs": [
    {
     "data": {
      "text/plain": [
       "4.0    11183\n",
       "3.0     1866\n",
       "5.0       27\n",
       "2.0       16\n",
       "1.0       10\n",
       "Name: area2, dtype: int64"
      ]
     },
     "execution_count": 283,
     "metadata": {},
     "output_type": "execute_result"
    }
   ],
   "source": [
    "df['area2'].str.len().value_counts()"
   ]
  },
  {
   "cell_type": "code",
   "execution_count": 284,
   "id": "cd903d33-aed0-421e-b50b-2bb1b68d942e",
   "metadata": {},
   "outputs": [],
   "source": [
    "#price per square ft\n",
    "df['price/sqft']= df['price'].astype(float)*100000 / df['area2'].astype(float)"
   ]
  },
  {
   "cell_type": "code",
   "execution_count": 285,
   "id": "e8689551-32b0-4bcd-921e-c6cd89dd0bc3",
   "metadata": {},
   "outputs": [],
   "source": [
    "#REMOVE WHITESPACE\n",
    "df['location']=df['location'].apply(lambda x:x.strip())"
   ]
  },
  {
   "cell_type": "code",
   "execution_count": 286,
   "id": "7f97a7aa-8519-4356-ba58-540597deba05",
   "metadata": {},
   "outputs": [],
   "source": [
    "#dimension reduction: location <10 datapoints to others\n",
    "\n",
    "location_count = df.groupby('location')['location'].agg('count').sort_values(ascending=False)\n",
    "other_location = location_count[location_count <= 10]\n",
    "df['location']=df['location'].apply(lambda x:x.replace(x, 'other') if x in other_location else x)"
   ]
  },
  {
   "cell_type": "code",
   "execution_count": 287,
   "id": "ac5d3edb-9321-4ddc-b3e6-c74335520811",
   "metadata": {},
   "outputs": [],
   "source": [
    "#OHE\n",
    "from sklearn.preprocessing import LabelEncoder\n",
    "le=LabelEncoder()"
   ]
  },
  {
   "cell_type": "code",
   "execution_count": 288,
   "id": "f5f904ff-4d35-43ef-a874-7c72f1adcc90",
   "metadata": {},
   "outputs": [],
   "source": [
    "df['location1']= le.fit_transform(df['location'])"
   ]
  },
  {
   "cell_type": "code",
   "execution_count": 310,
   "id": "9d024f8f-91bf-4efb-b330-44bc38c79909",
   "metadata": {},
   "outputs": [
    {
     "data": {
      "text/html": [
       "<div>\n",
       "<style scoped>\n",
       "    .dataframe tbody tr th:only-of-type {\n",
       "        vertical-align: middle;\n",
       "    }\n",
       "\n",
       "    .dataframe tbody tr th {\n",
       "        vertical-align: top;\n",
       "    }\n",
       "\n",
       "    .dataframe thead th {\n",
       "        text-align: right;\n",
       "    }\n",
       "</style>\n",
       "<table border=\"1\" class=\"dataframe\">\n",
       "  <thead>\n",
       "    <tr style=\"text-align: right;\">\n",
       "      <th></th>\n",
       "      <th>location</th>\n",
       "      <th>total_sqft</th>\n",
       "      <th>bath</th>\n",
       "      <th>price</th>\n",
       "      <th>BHK</th>\n",
       "      <th>area1</th>\n",
       "      <th>area2</th>\n",
       "      <th>price/sqft</th>\n",
       "      <th>location1</th>\n",
       "    </tr>\n",
       "  </thead>\n",
       "  <tbody>\n",
       "    <tr>\n",
       "      <th>0</th>\n",
       "      <td>Electronic City Phase II</td>\n",
       "      <td>1056</td>\n",
       "      <td>2.0</td>\n",
       "      <td>39.07</td>\n",
       "      <td>2</td>\n",
       "      <td>1056</td>\n",
       "      <td>1056</td>\n",
       "      <td>3699.810606</td>\n",
       "      <td>79</td>\n",
       "    </tr>\n",
       "    <tr>\n",
       "      <th>1</th>\n",
       "      <td>Chikka Tirupathi</td>\n",
       "      <td>2600</td>\n",
       "      <td>5.0</td>\n",
       "      <td>120.00</td>\n",
       "      <td>4</td>\n",
       "      <td>2600</td>\n",
       "      <td>2600</td>\n",
       "      <td>4615.384615</td>\n",
       "      <td>60</td>\n",
       "    </tr>\n",
       "    <tr>\n",
       "      <th>2</th>\n",
       "      <td>Uttarahalli</td>\n",
       "      <td>1440</td>\n",
       "      <td>2.0</td>\n",
       "      <td>62.00</td>\n",
       "      <td>3</td>\n",
       "      <td>1440</td>\n",
       "      <td>1440</td>\n",
       "      <td>4305.555556</td>\n",
       "      <td>226</td>\n",
       "    </tr>\n",
       "    <tr>\n",
       "      <th>3</th>\n",
       "      <td>Lingadheeranahalli</td>\n",
       "      <td>1521</td>\n",
       "      <td>3.0</td>\n",
       "      <td>95.00</td>\n",
       "      <td>3</td>\n",
       "      <td>1521</td>\n",
       "      <td>1521</td>\n",
       "      <td>6245.890861</td>\n",
       "      <td>159</td>\n",
       "    </tr>\n",
       "    <tr>\n",
       "      <th>4</th>\n",
       "      <td>Kothanur</td>\n",
       "      <td>1200</td>\n",
       "      <td>2.0</td>\n",
       "      <td>51.00</td>\n",
       "      <td>2</td>\n",
       "      <td>1200</td>\n",
       "      <td>1200</td>\n",
       "      <td>4250.000000</td>\n",
       "      <td>151</td>\n",
       "    </tr>\n",
       "    <tr>\n",
       "      <th>...</th>\n",
       "      <td>...</td>\n",
       "      <td>...</td>\n",
       "      <td>...</td>\n",
       "      <td>...</td>\n",
       "      <td>...</td>\n",
       "      <td>...</td>\n",
       "      <td>...</td>\n",
       "      <td>...</td>\n",
       "      <td>...</td>\n",
       "    </tr>\n",
       "    <tr>\n",
       "      <th>13315</th>\n",
       "      <td>Whitefield</td>\n",
       "      <td>3453</td>\n",
       "      <td>4.0</td>\n",
       "      <td>231.00</td>\n",
       "      <td>5</td>\n",
       "      <td>3453</td>\n",
       "      <td>3453</td>\n",
       "      <td>6689.834926</td>\n",
       "      <td>235</td>\n",
       "    </tr>\n",
       "    <tr>\n",
       "      <th>13316</th>\n",
       "      <td>other</td>\n",
       "      <td>3600</td>\n",
       "      <td>5.0</td>\n",
       "      <td>400.00</td>\n",
       "      <td>4</td>\n",
       "      <td>3600</td>\n",
       "      <td>3600</td>\n",
       "      <td>11111.111111</td>\n",
       "      <td>241</td>\n",
       "    </tr>\n",
       "    <tr>\n",
       "      <th>13317</th>\n",
       "      <td>Raja Rajeshwari Nagar</td>\n",
       "      <td>1141</td>\n",
       "      <td>2.0</td>\n",
       "      <td>60.00</td>\n",
       "      <td>2</td>\n",
       "      <td>1141</td>\n",
       "      <td>1141</td>\n",
       "      <td>5258.545136</td>\n",
       "      <td>194</td>\n",
       "    </tr>\n",
       "    <tr>\n",
       "      <th>13318</th>\n",
       "      <td>Padmanabhanagar</td>\n",
       "      <td>4689</td>\n",
       "      <td>4.0</td>\n",
       "      <td>488.00</td>\n",
       "      <td>4</td>\n",
       "      <td>4689</td>\n",
       "      <td>4689</td>\n",
       "      <td>10407.336319</td>\n",
       "      <td>185</td>\n",
       "    </tr>\n",
       "    <tr>\n",
       "      <th>13319</th>\n",
       "      <td>Doddathoguru</td>\n",
       "      <td>550</td>\n",
       "      <td>1.0</td>\n",
       "      <td>17.00</td>\n",
       "      <td>1</td>\n",
       "      <td>550</td>\n",
       "      <td>550</td>\n",
       "      <td>3090.909091</td>\n",
       "      <td>74</td>\n",
       "    </tr>\n",
       "  </tbody>\n",
       "</table>\n",
       "<p>13102 rows × 9 columns</p>\n",
       "</div>"
      ],
      "text/plain": [
       "                       location total_sqft  bath   price  BHK area1 area2  \\\n",
       "0      Electronic City Phase II       1056   2.0   39.07    2  1056  1056   \n",
       "1              Chikka Tirupathi       2600   5.0  120.00    4  2600  2600   \n",
       "2                   Uttarahalli       1440   2.0   62.00    3  1440  1440   \n",
       "3            Lingadheeranahalli       1521   3.0   95.00    3  1521  1521   \n",
       "4                      Kothanur       1200   2.0   51.00    2  1200  1200   \n",
       "...                         ...        ...   ...     ...  ...   ...   ...   \n",
       "13315                Whitefield       3453   4.0  231.00    5  3453  3453   \n",
       "13316                     other       3600   5.0  400.00    4  3600  3600   \n",
       "13317     Raja Rajeshwari Nagar       1141   2.0   60.00    2  1141  1141   \n",
       "13318           Padmanabhanagar       4689   4.0  488.00    4  4689  4689   \n",
       "13319              Doddathoguru        550   1.0   17.00    1   550   550   \n",
       "\n",
       "         price/sqft  location1  \n",
       "0       3699.810606         79  \n",
       "1       4615.384615         60  \n",
       "2       4305.555556        226  \n",
       "3       6245.890861        159  \n",
       "4       4250.000000        151  \n",
       "...             ...        ...  \n",
       "13315   6689.834926        235  \n",
       "13316  11111.111111        241  \n",
       "13317   5258.545136        194  \n",
       "13318  10407.336319        185  \n",
       "13319   3090.909091         74  \n",
       "\n",
       "[13102 rows x 9 columns]"
      ]
     },
     "execution_count": 310,
     "metadata": {},
     "output_type": "execute_result"
    }
   ],
   "source": [
    "df"
   ]
  },
  {
   "cell_type": "code",
   "execution_count": 311,
   "id": "68971929-db5f-4e59-9c3b-a2052362ad2d",
   "metadata": {},
   "outputs": [],
   "source": [
    "x= df[['location1','area2', 'BHK']]\n",
    "y= df['price']"
   ]
  },
  {
   "cell_type": "code",
   "execution_count": 314,
   "id": "6c7274b5-8b80-4cd2-b633-d98595b20813",
   "metadata": {},
   "outputs": [],
   "source": [
    "from sklearn.model_selection import train_test_split\n",
    "x_train, x_test, y_train, y_test = train_test_split(x,y, test_size=0.2, random_state=0)"
   ]
  },
  {
   "cell_type": "code",
   "execution_count": 315,
   "id": "3de85eb4-d3eb-4989-8b5d-ea9335e66bbe",
   "metadata": {},
   "outputs": [
    {
     "data": {
      "text/plain": [
       "LinearRegression()"
      ]
     },
     "execution_count": 315,
     "metadata": {},
     "output_type": "execute_result"
    }
   ],
   "source": [
    "from sklearn.linear_model import LinearRegression\n",
    "model= LinearRegression()\n",
    "model.fit(x_train, y_train)"
   ]
  },
  {
   "cell_type": "code",
   "execution_count": 316,
   "id": "951c20b8-ceeb-4f09-aeb0-b91edf01ce36",
   "metadata": {},
   "outputs": [
    {
     "data": {
      "text/plain": [
       "0.26726355942625346"
      ]
     },
     "execution_count": 316,
     "metadata": {},
     "output_type": "execute_result"
    }
   ],
   "source": [
    "model.score(x_test, y_test)"
   ]
  },
  {
   "cell_type": "code",
   "execution_count": 348,
   "id": "a229c57d-0814-4495-a006-7c0064f5f55f",
   "metadata": {},
   "outputs": [],
   "source": [
    "def get_location(location):\n",
    "    location1 = df['location1'].loc[df['location']== location].iloc[0]\n",
    "    return location1"
   ]
  },
  {
   "cell_type": "code",
   "execution_count": 349,
   "id": "941d25c2-d63e-4a99-9bbf-dda930e4c9c4",
   "metadata": {},
   "outputs": [
    {
     "data": {
      "text/plain": [
       "226"
      ]
     },
     "execution_count": 349,
     "metadata": {},
     "output_type": "execute_result"
    }
   ],
   "source": [
    "get_location('Uttarahalli')"
   ]
  },
  {
   "cell_type": "code",
   "execution_count": null,
   "id": "a8efc44e-c09e-49ed-bf58-bdd4b7f970af",
   "metadata": {},
   "outputs": [],
   "source": []
  },
  {
   "cell_type": "code",
   "execution_count": 352,
   "id": "76c69348-ce7c-4815-aca2-59c3abd1dc51",
   "metadata": {},
   "outputs": [],
   "source": [
    "def predict_price(location, area, BHK):\n",
    "    location1 = df['location1'].loc[df['location']== location].iloc[0]\n",
    "    return model.predict([[location1, area, BHK]])"
   ]
  },
  {
   "cell_type": "code",
   "execution_count": 353,
   "id": "e72aa333-34fc-47e9-9b52-406aba20b88a",
   "metadata": {},
   "outputs": [
    {
     "name": "stderr",
     "output_type": "stream",
     "text": [
      "C:\\Users\\Malik\\anaconda3\\lib\\site-packages\\sklearn\\base.py:450: UserWarning: X does not have valid feature names, but LinearRegression was fitted with feature names\n",
      "  warnings.warn(\n"
     ]
    },
    {
     "data": {
      "text/plain": [
       "array([213.00314641])"
      ]
     },
     "execution_count": 353,
     "metadata": {},
     "output_type": "execute_result"
    }
   ],
   "source": [
    "predict_price('Uttarahalli', 3000, 3)"
   ]
  },
  {
   "cell_type": "code",
   "execution_count": 354,
   "id": "4f30cddc-63a9-4f6e-871d-a5aa44908358",
   "metadata": {},
   "outputs": [],
   "source": [
    "import joblib"
   ]
  },
  {
   "cell_type": "code",
   "execution_count": 355,
   "id": "8a9482f6-1822-41ee-88ed-5f4ee618be0e",
   "metadata": {},
   "outputs": [
    {
     "data": {
      "text/plain": [
       "['house_model']"
      ]
     },
     "execution_count": 355,
     "metadata": {},
     "output_type": "execute_result"
    }
   ],
   "source": [
    "joblib.dump(model, 'house_model')"
   ]
  },
  {
   "cell_type": "code",
   "execution_count": 356,
   "id": "15fb7264-a6f8-4705-99b5-f1b78eac8ac2",
   "metadata": {},
   "outputs": [],
   "source": [
    "from flask import Flask"
   ]
  },
  {
   "cell_type": "code",
   "execution_count": null,
   "id": "06294eb5-5246-4783-bbdc-e9ac76b12a99",
   "metadata": {},
   "outputs": [],
   "source": []
  },
  {
   "cell_type": "code",
   "execution_count": null,
   "id": "2a0d1a96-7354-4445-ac93-75504b41b8f4",
   "metadata": {},
   "outputs": [],
   "source": []
  },
  {
   "cell_type": "code",
   "execution_count": 52,
   "id": "722e1492-6548-43e0-acd8-d6780cfcb3a4",
   "metadata": {},
   "outputs": [],
   "source": [
    "def floater(x):\n",
    "    try:\n",
    "        x_= float(x)\n",
    "        return x_\n",
    "    except:\n",
    "        return x"
   ]
  },
  {
   "cell_type": "code",
   "execution_count": null,
   "id": "c0e79572-076b-4f89-b03c-d8cdf5c6c666",
   "metadata": {},
   "outputs": [],
   "source": []
  }
 ],
 "metadata": {
  "kernelspec": {
   "display_name": "Python 3.9.12 ('base')",
   "language": "python",
   "name": "python3"
  },
  "language_info": {
   "codemirror_mode": {
    "name": "ipython",
    "version": 3
   },
   "file_extension": ".py",
   "mimetype": "text/x-python",
   "name": "python",
   "nbconvert_exporter": "python",
   "pygments_lexer": "ipython3",
   "version": "3.9.12"
  },
  "vscode": {
   "interpreter": {
    "hash": "cb1ff051c7c60963a880930307bf8d74b1f17a2fdacc6284a522c10eb4ff0032"
   }
  }
 },
 "nbformat": 4,
 "nbformat_minor": 5
}
